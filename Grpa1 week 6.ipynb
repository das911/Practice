{
 "cells": [
  {
   "cell_type": "code",
   "execution_count": 1,
   "metadata": {},
   "outputs": [],
   "source": [
    "malgudi = ['It', 'was', 'Monday', 'morning.', 'Swaminathan', 'was', 'reluctant', 'to', 'open', 'his',\n",
    " 'eyes.', 'He', 'considered', 'Monday', 'specially', 'unpleasant', 'in', 'the', 'calendar.', 'After',\n",
    " 'the', 'delicious', 'freedom', 'of', 'Saturday', 'And', 'Sunday,', 'it', 'was', 'difficult', 'to',\n",
    " 'get', 'into', 'the', 'Monday', 'mood', 'of', 'work', 'and', 'discipline.', 'He', 'shuddered', 'at',\n",
    " 'the', 'very', 'thought', 'of', 'school:', 'the', 'dismal', 'yellow', 'building;', 'the',\n",
    " 'fire-eyed', 'Vedanayagam,', 'his', 'class', 'teacher,', 'and', 'headmaster', 'with', 'his',\n",
    " 'thin', 'long', 'cane...']\n",
    "\n",
    "\n",
    "\n",
    "def freqWords(words):\n",
    "    l=len(words)\n",
    "\n",
    "    for i in range(l):\n",
    "        if(words[i].islower()==True):\n",
    "            words[i]=words[i]\n",
    "        else:\n",
    "            words[i]=words[i].lower()\n",
    "    \n",
    "    \n",
    "    k,a,b,c,d=(','),('.'),('!'),(';'),(':')\n",
    "\n",
    "    for i in range (l):\n",
    "        if(words[i].endswith(k)==True):\n",
    "            words[i]=words[i].replace(k, '')\n",
    "        elif(words[i].endswith(a)==True):\n",
    "            words[i]=words[i].replace(a, '')\n",
    "        elif(words[i].endswith(b)==True):\n",
    "            words[i]=words[i].replace(b, '')\n",
    "        elif(words[i].endswith(c)==True):\n",
    "            words[i]=words[i].replace(c, '') \n",
    "        else:\n",
    "            (words[i].endswith(d)==True)\n",
    "            words[i]=words[i].replace(d, '')\n",
    "        #print(malgudi)\n",
    "    s=set(words)\n",
    "    d={}\n",
    "    for x in s:\n",
    "        d[x]=0\n",
    "    for x in words:\n",
    "        d[x]=d[x]+1  \n",
    "        \n",
    "    k=[]\n",
    "    d1={}\n",
    "    for key in d:\n",
    "        val=d[key]\n",
    "        k.append(val)\n",
    "        k.sort()\n",
    "        s1=set(k)\n",
    "        if val not in d1:\n",
    "            d1[val]=[key]\n",
    "        else:\n",
    "            d1[val].append(key)\n",
    "    for i in d1:\n",
    "        d1[i].sort(key=ascii)\n",
    "    \n",
    "    \n",
    "    return(d1)\n",
    "#print(k)    \n",
    "\n",
    "\n",
    "    "
   ]
  },
  {
   "cell_type": "code",
   "execution_count": 2,
   "metadata": {},
   "outputs": [
    {
     "ename": "SyntaxError",
     "evalue": "invalid syntax (<ipython-input-2-d91af1f1aa79>, line 4)",
     "output_type": "error",
     "traceback": [
      "\u001b[1;36m  File \u001b[1;32m\"<ipython-input-2-d91af1f1aa79>\"\u001b[1;36m, line \u001b[1;32m4\u001b[0m\n\u001b[1;33m    max_key = max(a_dictionary, key=)\u001b[0m\n\u001b[1;37m                                    ^\u001b[0m\n\u001b[1;31mSyntaxError\u001b[0m\u001b[1;31m:\u001b[0m invalid syntax\n"
     ]
    }
   ],
   "source": [
    "a_dictionary = {\"a\": 1, \"b\": 2, \"c\": 3}\n",
    "\n",
    "# get key with max value\n",
    "max_key = max(a_dictionary, key=)\n",
    "\n",
    "\n",
    "print(max_key)"
   ]
  },
  {
   "cell_type": "code",
   "execution_count": 3,
   "metadata": {},
   "outputs": [
    {
     "name": "stdout",
     "output_type": "stream",
     "text": [
      "{3: ['and', 'his', 'monday', 'of', 'was'], 1: ['after', 'at', 'building', 'calendar', 'cane', 'class', 'considered', 'delicious', 'difficult', 'discipline', 'dismal', 'eyes', 'fire-eyed', 'freedom', 'get', 'headmaster', 'in', 'into', 'long', 'mood', 'morning', 'open', 'reluctant', 'saturday', 'school', 'shuddered', 'specially', 'sunday', 'swaminathan', 'teacher', 'thin', 'thought', 'unpleasant', 'vedanayagam', 'very', 'with', 'work', 'yellow'], 2: ['he', 'it', 'to'], 6: ['the']}\n"
     ]
    }
   ],
   "source": [
    "print(freqWords(malgudi))"
   ]
  },
  {
   "cell_type": "code",
   "execution_count": null,
   "metadata": {},
   "outputs": [],
   "source": []
  }
 ],
 "metadata": {
  "kernelspec": {
   "display_name": "Python 3",
   "language": "python",
   "name": "python3"
  },
  "language_info": {
   "codemirror_mode": {
    "name": "ipython",
    "version": 3
   },
   "file_extension": ".py",
   "mimetype": "text/x-python",
   "name": "python",
   "nbconvert_exporter": "python",
   "pygments_lexer": "ipython3",
   "version": "3.7.6"
  }
 },
 "nbformat": 4,
 "nbformat_minor": 4
}
