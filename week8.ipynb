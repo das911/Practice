{
 "cells": [
  {
   "cell_type": "code",
   "execution_count": 1,
   "metadata": {},
   "outputs": [],
   "source": [
    "def rbinary_search(l,k):\n",
    "    be=0\n",
    "    ed=len(l)-1\n",
    "    if (ed-be)==0:\n",
    "        if l[be]==k:\n",
    "            return 1\n",
    "        else:\n",
    "            return 0\n",
    "    if (ed-be)==1:\n",
    "        if (l[be]==k)or(l[ed]==k):\n",
    "            return 1\n",
    "        else:\n",
    "            return 0\n",
    "    if (ed-be)<0:\n",
    "        return 0\n",
    "    if (ed-be)>1:\n",
    "        mid=(be+ed)//2\n",
    "        if (l[mid]>k):\n",
    "            ed=mid-1\n",
    "        if (l[mid]<k):\n",
    "            be=mid+1\n",
    "        if  (l[mid]==k):\n",
    "            return 1\n",
    "    return  rbinary_search(l[be:ed],k)  "
   ]
  },
  {
   "cell_type": "code",
   "execution_count": 2,
   "metadata": {},
   "outputs": [],
   "source": [
    "l=list(range(100))"
   ]
  },
  {
   "cell_type": "code",
   "execution_count": 3,
   "metadata": {},
   "outputs": [
    {
     "name": "stdout",
     "output_type": "stream",
     "text": [
      "0\n"
     ]
    }
   ],
   "source": [
    "print(rbinary_search(l,99))"
   ]
  },
  {
   "cell_type": "code",
   "execution_count": 4,
   "metadata": {},
   "outputs": [],
   "source": [
    "def brse(l,k):\n",
    "    begin = 0\n",
    "    end   = len(l)-1\n",
    "    if (end==begin):\n",
    "        if (l[begin]==k):\n",
    "            return 1\n",
    "        else:\n",
    "            return 0\n",
    "    if (end-begin)==1:\n",
    "        if (l[begin]==k) or (l[end]==k):\n",
    "            return 1\n",
    "        else:\n",
    "            return 0\n",
    "    if (end - begin)<0:\n",
    "        return 0\n",
    "    if (end - begin)>1:\n",
    "        mid = (begin+end)//2\n",
    "        if (l[mid]>k):\n",
    "            end=mid-1\n",
    "        if (l[mid]<k):\n",
    "            begin = mid+1\n",
    "        if (l[mid]==k):\n",
    "            return 1\n",
    "    return brse(l[begin:end],k)    \n",
    "    \n",
    "        "
   ]
  },
  {
   "cell_type": "code",
   "execution_count": 5,
   "metadata": {},
   "outputs": [
    {
     "name": "stdout",
     "output_type": "stream",
     "text": [
      "0\n"
     ]
    }
   ],
   "source": [
    "print(brse(l,99))"
   ]
  },
  {
   "cell_type": "code",
   "execution_count": 6,
   "metadata": {},
   "outputs": [
    {
     "name": "stdout",
     "output_type": "stream",
     "text": [
      "hello World\n"
     ]
    }
   ],
   "source": [
    "print('hello World')"
   ]
  },
  {
   "cell_type": "code",
   "execution_count": 11,
   "metadata": {},
   "outputs": [
    {
     "data": {
      "text/plain": [
       "5644"
      ]
     },
     "execution_count": 11,
     "metadata": {},
     "output_type": "execute_result"
    }
   ],
   "source": [
    "2_847+2_797"
   ]
  },
  {
   "cell_type": "code",
   "execution_count": 9,
   "metadata": {},
   "outputs": [],
   "source": [
    " movies_db = {\"Avatar\":[2_847, 2009],\"Endgame\": [2_797, 2019], \"Taitanic\":[2_187, 1997], \"star Wars: The Force Awakens\": [2_068, 2015],\"avengers: Infinity war\": [2_048, 2018],\n",
    "\"Jurassic world\": [1.671, 2015],\"The Lion King\": [1.656, 2019],\"The Avengers\" : [1.518, 2012]}"
   ]
  },
  {
   "cell_type": "code",
   "execution_count": null,
   "metadata": {},
   "outputs": [],
   "source": []
  },
  {
   "cell_type": "code",
   "execution_count": 10,
   "metadata": {},
   "outputs": [],
   "source": []
  },
  {
   "cell_type": "code",
   "execution_count": 12,
   "metadata": {},
   "outputs": [],
   "source": [
    "def add_movie_to_boxoffice(movies_db, new_movie):\n",
    "    movies_db[new_movie[0]]=[new_movie[1],new_movie[2]]\n",
    "    return movies_db\n",
    "\n",
    "def total_collection(movies_db):\n",
    "    collection=0\n",
    "    for keys in movies_db:\n",
    "        collection+=movies_db[keys][0]\n",
    "    return collection\n",
    "\n",
    "\n",
    "def average_collection(movies_db):\n",
    "    n=len(movies_db)\n",
    "    collection=total_collection(movies_db)\n",
    "    average= round((collection)/n,2)\n",
    "\n",
    "    return average\n",
    "def num_of_movies_above_average_movies(movies_db):\n",
    "    average=average_collection(movies_db)\n",
    "    count=0\n",
    "    for keys in movies_db:\n",
    "        if movies_db[keys][0]>average:\n",
    "            count+=1\n",
    "    return count\n",
    "\n",
    "def highest_grossing_movie_year(movies_db):\n",
    "    year={}\n",
    "    for keys in movies_db:\n",
    "        year[movies_db[keys][1]]=0 #intialised year dictionary with year as key, 0 as values\n",
    "    for key in year:\n",
    "        for k in movies_db:\n",
    "            if key==movies_db[k][1]:\n",
    "                year[key]+=movies_db[k][0]\n",
    "    c_list=[]\n",
    "    for j in year:\n",
    "        c_list.append(year[j])\n",
    "    max=c_list[0]\n",
    "    for h in c_list:\n",
    "        if max<h:\n",
    "            h=max\n",
    "    a=0\n",
    "    for y in year:\n",
    "        if year[y]==max:\n",
    "            a=y\n",
    "    return a\n"
   ]
  },
  {
   "cell_type": "code",
   "execution_count": 2,
   "metadata": {},
   "outputs": [],
   "source": [
    "l=[['a','b','c','d','d'],['a','q','r','s','s','t'],['a','k','m','n']]"
   ]
  },
  {
   "cell_type": "code",
   "execution_count": 3,
   "metadata": {},
   "outputs": [],
   "source": [
    "\n",
    "def trending(subject_topics):\n",
    "    c=[]\n",
    "    def duplicate(l):\n",
    "        c=[]\n",
    "        for i in l:\n",
    "            if i not in c:\n",
    "                c.append(i)\n",
    "        return c  \n",
    "    common_topic_list=[]\n",
    "    for i in range (len(subject_topics)):\n",
    "        common_topic_list.append(duplicate(subject_topics[i]))\n",
    "    for i in range (len(common_topic_list)):\n",
    "        for j in range (len(common_topic_list[i])):\n",
    "            c.append(common_topic_list[i][j]) \n",
    "    s={}\n",
    "    \n",
    "    for x in c:   \n",
    "        if (x in s):\n",
    "            s[x]+=1\n",
    "        else:\n",
    "            s[x]=1\n",
    "    alval=s.values()\n",
    "    k=[]\n",
    "    p=[]\n",
    "    mx=max(alval)\n",
    "    mn=min(alval)\n",
    "    for x in s:\n",
    "        if s[x]==mx:\n",
    "            k.append(x)\n",
    "        if s[x]==mn:\n",
    "            p.append(x)\n",
    "    count_top_trending=len(k)\n",
    "    count_least_treanding=len(p)\n",
    "                \n",
    "                \n",
    "    return count_top_trending,count_least_treanding "
   ]
  },
  {
   "cell_type": "code",
   "execution_count": null,
   "metadata": {},
   "outputs": [],
   "source": []
  },
  {
   "cell_type": "code",
   "execution_count": 4,
   "metadata": {},
   "outputs": [
    {
     "name": "stdout",
     "output_type": "stream",
     "text": [
      "(1, 10)\n"
     ]
    }
   ],
   "source": [
    "print(trending(l))"
   ]
  },
  {
   "cell_type": "code",
   "execution_count": 1,
   "metadata": {},
   "outputs": [],
   "source": [
    "def equal(P,Q):\n",
    "    return P==Q"
   ]
  },
  {
   "cell_type": "code",
   "execution_count": 4,
   "metadata": {},
   "outputs": [],
   "source": [
    "P=[1,2,3,4,5,6]\n",
    "Q=[1,2,3,4,5,6]"
   ]
  },
  {
   "cell_type": "code",
   "execution_count": 5,
   "metadata": {},
   "outputs": [
    {
     "name": "stdout",
     "output_type": "stream",
     "text": [
      "True\n"
     ]
    }
   ],
   "source": [
    "print(equal(P,Q))"
   ]
  },
  {
   "cell_type": "code",
   "execution_count": 2,
   "metadata": {},
   "outputs": [],
   "source": [
    "############\n",
    "'''build a prime number'''\n",
    "def prime(a):\n",
    "    k=1\n",
    "    count=0\n",
    "    while(k<=a):\n",
    "        if (a%k==0):\n",
    "            count=count+1\n",
    "        k+=1\n",
    "    if count>2:\n",
    "        return \"False\"\n",
    "    else:\n",
    "        return \"True\""
   ]
  },
  {
   "cell_type": "code",
   "execution_count": 9,
   "metadata": {},
   "outputs": [
    {
     "name": "stdout",
     "output_type": "stream",
     "text": [
      "False\n"
     ]
    }
   ],
   "source": [
    "print(prime(63))"
   ]
  },
  {
   "cell_type": "code",
   "execution_count": 6,
   "metadata": {},
   "outputs": [],
   "source": [
    "def prime(a):\n",
    "    if a>1:\n",
    "        count=0\n",
    "        k=1\n",
    "        while k<=a :\n",
    "            if a%k==0:\n",
    "                count=count+1\n",
    "            k+=1\n",
    "        if count>2:\n",
    "            return \"False\"\n",
    "        else:\n",
    "            return \"True\"\n",
    "    else:\n",
    "        return \"One is a factor not a prime\""
   ]
  },
  {
   "cell_type": "code",
   "execution_count": 1,
   "metadata": {},
   "outputs": [],
   "source": [
    "#prime using recursion\n",
    "def factor(a):\n",
    "    l=[]\n",
    "    for i in range (1,a):\n",
    "        if a%i==0:\n",
    "            l.append(i)\n",
    "    if len(l)>2 or len(l)==0:\n",
    "        return (\"not prime\",l)\n",
    "    else:\n",
    "        return(\"Prime\",l)\n",
    "    \n",
    "    "
   ]
  },
  {
   "cell_type": "code",
   "execution_count": 3,
   "metadata": {},
   "outputs": [
    {
     "data": {
      "text/plain": [
       "False"
      ]
     },
     "execution_count": 3,
     "metadata": {},
     "output_type": "execute_result"
    }
   ],
   "source": [
    "x,y,z = 1,2,3\n",
    "x==y==z"
   ]
  },
  {
   "cell_type": "code",
   "execution_count": 20,
   "metadata": {},
   "outputs": [],
   "source": [
    "E=False"
   ]
  },
  {
   "cell_type": "code",
   "execution_count": 21,
   "metadata": {},
   "outputs": [
    {
     "name": "stdout",
     "output_type": "stream",
     "text": [
      "bad\n"
     ]
    }
   ],
   "source": [
    "if E:\n",
    "    print('good')\n",
    "else:\n",
    "    print('bad')\n",
    "  "
   ]
  },
  {
   "cell_type": "code",
   "execution_count": 22,
   "metadata": {},
   "outputs": [
    {
     "name": "stdout",
     "output_type": "stream",
     "text": [
      "bad\n"
     ]
    }
   ],
   "source": [
    "if E:\n",
    "    print('good')\n",
    "print('bad')    "
   ]
  },
  {
   "cell_type": "code",
   "execution_count": 23,
   "metadata": {},
   "outputs": [
    {
     "name": "stdout",
     "output_type": "stream",
     "text": [
      "<class 'bool'>\n"
     ]
    }
   ],
   "source": [
    "x=False\n",
    "print(type(x))"
   ]
  },
  {
   "cell_type": "code",
   "execution_count": 34,
   "metadata": {},
   "outputs": [],
   "source": [
    "y=bool(False)"
   ]
  },
  {
   "cell_type": "code",
   "execution_count": 35,
   "metadata": {},
   "outputs": [
    {
     "name": "stdout",
     "output_type": "stream",
     "text": [
      "False\n"
     ]
    }
   ],
   "source": [
    "print(y)"
   ]
  },
  {
   "cell_type": "code",
   "execution_count": 36,
   "metadata": {},
   "outputs": [
    {
     "name": "stdout",
     "output_type": "stream",
     "text": [
      "False\n"
     ]
    }
   ],
   "source": [
    "x=bool(input())"
   ]
  },
  {
   "cell_type": "code",
   "execution_count": 37,
   "metadata": {},
   "outputs": [
    {
     "name": "stdout",
     "output_type": "stream",
     "text": [
      "True\n"
     ]
    }
   ],
   "source": [
    "print(x)"
   ]
  },
  {
   "cell_type": "code",
   "execution_count": 40,
   "metadata": {},
   "outputs": [],
   "source": [
    "x=1.2"
   ]
  },
  {
   "cell_type": "code",
   "execution_count": 41,
   "metadata": {},
   "outputs": [
    {
     "name": "stdout",
     "output_type": "stream",
     "text": [
      "1.20\n"
     ]
    }
   ],
   "source": [
    "print(f'{x:1.2f}')"
   ]
  },
  {
   "cell_type": "code",
   "execution_count": 45,
   "metadata": {},
   "outputs": [],
   "source": [
    "its='balckbox'"
   ]
  },
  {
   "cell_type": "code",
   "execution_count": 43,
   "metadata": {},
   "outputs": [
    {
     "name": "stdout",
     "output_type": "stream",
     "text": [
      "kkkk"
     ]
    }
   ],
   "source": [
    "x=its[len(its)//2]\n",
    "while x in its:\n",
    "    its=its[:-1]\n",
    "    print(x,end=\"\")"
   ]
  },
  {
   "cell_type": "code",
   "execution_count": 47,
   "metadata": {},
   "outputs": [
    {
     "data": {
      "text/plain": [
       "'balckbo'"
      ]
     },
     "execution_count": 47,
     "metadata": {},
     "output_type": "execute_result"
    }
   ],
   "source": [
    "its[:-1]"
   ]
  },
  {
   "cell_type": "code",
   "execution_count": 48,
   "metadata": {},
   "outputs": [],
   "source": [
    "l1=[1,2,3,4]"
   ]
  },
  {
   "cell_type": "code",
   "execution_count": 50,
   "metadata": {},
   "outputs": [],
   "source": [
    "l1[0:2]=[10,20,30,45,55]"
   ]
  },
  {
   "cell_type": "code",
   "execution_count": 51,
   "metadata": {},
   "outputs": [
    {
     "name": "stdout",
     "output_type": "stream",
     "text": [
      "[10, 20, 30, 45, 55, 3, 4]\n"
     ]
    }
   ],
   "source": [
    "print(l1)"
   ]
  },
  {
   "cell_type": "code",
   "execution_count": 52,
   "metadata": {},
   "outputs": [
    {
     "data": {
      "text/plain": [
       "False"
      ]
     },
     "execution_count": 52,
     "metadata": {},
     "output_type": "execute_result"
    }
   ],
   "source": [
    "(2**0.5)==int(2**0.5)"
   ]
  },
  {
   "cell_type": "code",
   "execution_count": null,
   "metadata": {},
   "outputs": [],
   "source": []
  }
 ],
 "metadata": {
  "kernelspec": {
   "display_name": "Python 3",
   "language": "python",
   "name": "python3"
  },
  "language_info": {
   "codemirror_mode": {
    "name": "ipython",
    "version": 3
   },
   "file_extension": ".py",
   "mimetype": "text/x-python",
   "name": "python",
   "nbconvert_exporter": "python",
   "pygments_lexer": "ipython3",
   "version": "3.7.6"
  }
 },
 "nbformat": 4,
 "nbformat_minor": 4
}
