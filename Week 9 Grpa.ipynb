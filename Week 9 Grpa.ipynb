{
 "cells": [
  {
   "cell_type": "code",
   "execution_count": 1,
   "metadata": {},
   "outputs": [
    {
     "data": {
      "text/plain": [
       "'C:\\\\Users\\\\KUNTAL'"
      ]
     },
     "execution_count": 1,
     "metadata": {},
     "output_type": "execute_result"
    }
   ],
   "source": [
    "pwd"
   ]
  },
  {
   "cell_type": "code",
   "execution_count": 1,
   "metadata": {},
   "outputs": [],
   "source": [
    "f=open(\"WorldPopulation.csv\",\"r\")\n",
    "line=f.readlines()\n"
   ]
  },
  {
   "cell_type": "code",
   "execution_count": 2,
   "metadata": {},
   "outputs": [],
   "source": [
    "def solution():\n",
    "    f=open(\"WorldPopulation.csv\",\"r\")\n",
    "    mx=0\n",
    "    for record in f:\n",
    "        f1=record.split(',')\n",
    "        if int(f1[2]> mx):\n",
    "               mx = int(f1[2])\n",
    "        return(mx)           \n",
    "    "
   ]
  },
  {
   "cell_type": "code",
   "execution_count": 6,
   "metadata": {},
   "outputs": [
    {
     "ename": "SyntaxError",
     "evalue": "invalid syntax (<ipython-input-6-756dc6e0c229>, line 3)",
     "output_type": "error",
     "traceback": [
      "\u001b[1;36m  File \u001b[1;32m\"<ipython-input-6-756dc6e0c229>\"\u001b[1;36m, line \u001b[1;32m3\u001b[0m\n\u001b[1;33m    )\u001b[0m\n\u001b[1;37m    ^\u001b[0m\n\u001b[1;31mSyntaxError\u001b[0m\u001b[1;31m:\u001b[0m invalid syntax\n"
     ]
    }
   ],
   "source": [
    "line = ''\n",
    "if  line:\n",
    "    ) "
   ]
  },
  {
   "cell_type": "code",
   "execution_count": 28,
   "metadata": {},
   "outputs": [],
   "source": [
    "f=open(\"WorldPopulation.csv\",'r')"
   ]
  },
  {
   "cell_type": "code",
   "execution_count": 31,
   "metadata": {},
   "outputs": [
    {
     "name": "stdout",
     "output_type": "stream",
     "text": [
      "0\n"
     ]
    }
   ],
   "source": [
    "scores=f.readlines()[1:]\n",
    "mx=0\n",
    "for record in scores:\n",
    "    fields = record.split(',')\n",
    "    if int(fields[3])>mx:\n",
    "        mx=int(fields[3])\n",
    "print(mx)        "
   ]
  },
  {
   "cell_type": "code",
   "execution_count": 32,
   "metadata": {},
   "outputs": [],
   "source": [
    "x='12345';y='78945'"
   ]
  },
  {
   "cell_type": "code",
   "execution_count": 33,
   "metadata": {},
   "outputs": [
    {
     "data": {
      "text/plain": [
       "True"
      ]
     },
     "execution_count": 33,
     "metadata": {},
     "output_type": "execute_result"
    }
   ],
   "source": [
    "len(x)+len(y)==len(x+y)"
   ]
  },
  {
   "cell_type": "code",
   "execution_count": 35,
   "metadata": {},
   "outputs": [
    {
     "name": "stdout",
     "output_type": "stream",
     "text": [
      "1\n",
      "2\n",
      "3\n",
      "123\n"
     ]
    }
   ],
   "source": [
    "print(input()+input()+input())"
   ]
  },
  {
   "cell_type": "code",
   "execution_count": 3,
   "metadata": {},
   "outputs": [
    {
     "name": "stdout",
     "output_type": "stream",
     "text": [
      "10\n"
     ]
    }
   ],
   "source": [
    "def f(a,b,c=2,d=3):\n",
    "    return a+b+c+d\n",
    "print(f(2,3))"
   ]
  },
  {
   "cell_type": "code",
   "execution_count": 9,
   "metadata": {},
   "outputs": [
    {
     "ename": "SyntaxError",
     "evalue": "invalid syntax (<ipython-input-9-01ee75e1b29b>, line 1)",
     "output_type": "error",
     "traceback": [
      "\u001b[1;36m  File \u001b[1;32m\"<ipython-input-9-01ee75e1b29b>\"\u001b[1;36m, line \u001b[1;32m1\u001b[0m\n\u001b[1;33m    def assert(x):\u001b[0m\n\u001b[1;37m             ^\u001b[0m\n\u001b[1;31mSyntaxError\u001b[0m\u001b[1;31m:\u001b[0m invalid syntax\n"
     ]
    }
   ],
   "source": [
    "def assert(x):\n",
    "    \n",
    "    return x==int(str(x))\n"
   ]
  },
  {
   "cell_type": "code",
   "execution_count": 10,
   "metadata": {},
   "outputs": [],
   "source": [
    "l1=['Iplay', 'youPlay']\n",
    "l2=['Badminton', 'cricket']"
   ]
  },
  {
   "cell_type": "code",
   "execution_count": 12,
   "metadata": {},
   "outputs": [
    {
     "name": "stdout",
     "output_type": "stream",
     "text": [
      "Iplay Badminton\n"
     ]
    }
   ],
   "source": [
    "k=[]\n",
    "l=[]\n",
    "for x in l1[:-1]:\n",
    "    for y in l2[:-1]:\n",
    "        k.append(x)\n",
    "        l.append(y)\n",
    "        print(x,y)"
   ]
  },
  {
   "cell_type": "code",
   "execution_count": 13,
   "metadata": {},
   "outputs": [
    {
     "name": "stdout",
     "output_type": "stream",
     "text": [
      "['Iplay']\n",
      "['Badminton']\n"
     ]
    }
   ],
   "source": [
    "print(k)\n",
    "print(l)"
   ]
  },
  {
   "cell_type": "code",
   "execution_count": 2,
   "metadata": {},
   "outputs": [
    {
     "name": "stdout",
     "output_type": "stream",
     "text": [
      "1 2 3\n",
      "4 5 6\n",
      "\n",
      "3 6\n",
      "2 5\n",
      "1 4\n"
     ]
    }
   ],
   "source": [
    "#creating a Nested list from the iunput\n",
    "m=[ ]#creating an empty list\n",
    "row=input() #accepting input as row\n",
    "while row :\n",
    "    t=[]\n",
    "    for i in row.strip().split(' '):\n",
    "        t.append(i)\n",
    "    m.append(t)\n",
    "    row = input()\n",
    "#New nested list for the rotated matrix\n",
    "\n",
    "m1=[]\n",
    "for i in range(len(m[0])):\n",
    "    m1.append([])\n",
    "    for j in range(len(m)):\n",
    "        m1[i].append(0)\n",
    "#transformation \n",
    "##Transpose\n",
    "for i in range (len(m)):\n",
    "    for j in range(len(m[0])):\n",
    "        m1[j][i]=m[i][j]\n",
    "# fliping  the rows of the transposed matricx\n",
    "m1=m1[::-1]\n",
    "# printing the rotated matrix \n",
    "for i in range (len(m1)):\n",
    "    for j in range(len(m1[0])):\n",
    "        if j!=len(m1[0])-1:\n",
    "            print(m1[i][j],end=' ')\n",
    "        else:\n",
    "            print(m1[i][j], end='')\n",
    "    print()        \n",
    "    "
   ]
  },
  {
   "cell_type": "code",
   "execution_count": 3,
   "metadata": {},
   "outputs": [
    {
     "name": "stdout",
     "output_type": "stream",
     "text": [
      "[['3', '6'], ['2', '5'], ['1', '4']]\n"
     ]
    }
   ],
   "source": [
    "print(m1)"
   ]
  },
  {
   "cell_type": "code",
   "execution_count": 14,
   "metadata": {},
   "outputs": [
    {
     "name": "stdout",
     "output_type": "stream",
     "text": [
      "1 2 3\n",
      "4 5 6\n",
      "\n",
      "[['1', '4'], ['2', '5'], ['3', '6']]\n"
     ]
    }
   ],
   "source": [
    "m=[]\n",
    "row=input()\n",
    "while row:\n",
    "    t=[]\n",
    "    for i in row.strip().split(' '):\n",
    "        t.append(i)\n",
    "    m.append(t)    \n",
    "    row=input()\n",
    "\n",
    "m1=[]\n",
    "for i in range (len(m[0])):\n",
    "    m1.append([])\n",
    "    for j in range(len(m)):\n",
    "        m1[i].append(0)\n",
    "\n",
    "        \n",
    "for i in range (len(m)):\n",
    "    for j in range(len(m[0])):\n",
    "        m1[j][i]=m[i][j]\n",
    "print(m1)        \n",
    "        "
   ]
  },
  {
   "cell_type": "code",
   "execution_count": 21,
   "metadata": {},
   "outputs": [
    {
     "name": "stdout",
     "output_type": "stream",
     "text": [
      "Provide values sep by space1 2 3\n",
      "Provide values sep by space4 5 6\n",
      "Provide values sep by space\n",
      "[['1', '4'], ['2', '5'], ['3', '6']]\n"
     ]
    }
   ],
   "source": [
    "m=[]\n",
    "row=input('Provide values sep by space')\n",
    "while row:\n",
    "    t=[]\n",
    "    for i in row.strip().split(' '):\n",
    "        t.append(i)\n",
    "    m.append(t)\n",
    "    row=input('Provide values sep by space')\n",
    "\n",
    "    \n",
    "    \n",
    "#Work for Transpose matrix M1\n",
    "\n",
    "m1=[]\n",
    "for i in range (len(m[0])):\n",
    "    m1.append([])\n",
    "    for j in range (len(m)):\n",
    "        m1[i].append(0)\n",
    "        \n",
    "for i in range (len(m)):\n",
    "    for j in range (len(m[0])):\n",
    "        m1[j][i]=m[i][j]\n",
    "print(m1)        "
   ]
  },
  {
   "cell_type": "code",
   "execution_count": 1,
   "metadata": {},
   "outputs": [],
   "source": [
    "t=(10,23,30)\n"
   ]
  },
  {
   "cell_type": "code",
   "execution_count": 2,
   "metadata": {},
   "outputs": [
    {
     "data": {
      "text/plain": [
       "30"
      ]
     },
     "execution_count": 2,
     "metadata": {},
     "output_type": "execute_result"
    }
   ],
   "source": [
    "t[2]"
   ]
  },
  {
   "cell_type": "code",
   "execution_count": 3,
   "metadata": {},
   "outputs": [
    {
     "ename": "AttributeError",
     "evalue": "'tuple' object has no attribute 'append'",
     "output_type": "error",
     "traceback": [
      "\u001b[1;31m---------------------------------------------------------------------------\u001b[0m",
      "\u001b[1;31mAttributeError\u001b[0m                            Traceback (most recent call last)",
      "\u001b[1;32m<ipython-input-3-a806b8ff4879>\u001b[0m in \u001b[0;36m<module>\u001b[1;34m\u001b[0m\n\u001b[1;32m----> 1\u001b[1;33m \u001b[0mt\u001b[0m\u001b[1;33m.\u001b[0m\u001b[0mappend\u001b[0m\u001b[1;33m(\u001b[0m\u001b[1;36m20\u001b[0m\u001b[1;33m)\u001b[0m\u001b[1;33m\u001b[0m\u001b[1;33m\u001b[0m\u001b[0m\n\u001b[0m",
      "\u001b[1;31mAttributeError\u001b[0m: 'tuple' object has no attribute 'append'"
     ]
    }
   ],
   "source": [
    "t.append(20)"
   ]
  },
  {
   "cell_type": "code",
   "execution_count": 4,
   "metadata": {},
   "outputs": [
    {
     "ename": "AttributeError",
     "evalue": "'tuple' object has no attribute 'remove'",
     "output_type": "error",
     "traceback": [
      "\u001b[1;31m---------------------------------------------------------------------------\u001b[0m",
      "\u001b[1;31mAttributeError\u001b[0m                            Traceback (most recent call last)",
      "\u001b[1;32m<ipython-input-4-c0ded720561a>\u001b[0m in \u001b[0;36m<module>\u001b[1;34m\u001b[0m\n\u001b[1;32m----> 1\u001b[1;33m \u001b[0mt\u001b[0m\u001b[1;33m.\u001b[0m\u001b[0mremove\u001b[0m\u001b[1;33m(\u001b[0m\u001b[1;36m10\u001b[0m\u001b[1;33m)\u001b[0m\u001b[1;33m\u001b[0m\u001b[1;33m\u001b[0m\u001b[0m\n\u001b[0m",
      "\u001b[1;31mAttributeError\u001b[0m: 'tuple' object has no attribute 'remove'"
     ]
    }
   ],
   "source": [
    "t.remove(10)"
   ]
  },
  {
   "cell_type": "code",
   "execution_count": 5,
   "metadata": {},
   "outputs": [],
   "source": [
    "t=t+(30,55)"
   ]
  },
  {
   "cell_type": "code",
   "execution_count": 6,
   "metadata": {},
   "outputs": [],
   "source": [
    "t=t*3"
   ]
  },
  {
   "cell_type": "code",
   "execution_count": 7,
   "metadata": {},
   "outputs": [
    {
     "name": "stdout",
     "output_type": "stream",
     "text": [
      "10.0\n"
     ]
    }
   ],
   "source": [
    "print(10.0//1)"
   ]
  },
  {
   "cell_type": "code",
   "execution_count": 16,
   "metadata": {},
   "outputs": [],
   "source": [
    "x=\"python\"\n"
   ]
  },
  {
   "cell_type": "code",
   "execution_count": 17,
   "metadata": {},
   "outputs": [
    {
     "name": "stdout",
     "output_type": "stream",
     "text": [
      "python"
     ]
    }
   ],
   "source": [
    "for num in x:\n",
    "    print(num,end=\"\")"
   ]
  },
  {
   "cell_type": "code",
   "execution_count": 18,
   "metadata": {},
   "outputs": [],
   "source": [
    "k=5*4//2"
   ]
  },
  {
   "cell_type": "code",
   "execution_count": 19,
   "metadata": {},
   "outputs": [
    {
     "data": {
      "text/plain": [
       "10"
      ]
     },
     "execution_count": 19,
     "metadata": {},
     "output_type": "execute_result"
    }
   ],
   "source": [
    "k"
   ]
  },
  {
   "cell_type": "code",
   "execution_count": 3,
   "metadata": {},
   "outputs": [
    {
     "data": {
      "text/plain": [
       "<_io.TextIOWrapper name='WorldPopulation.csv' mode='r' encoding='cp1252'>"
      ]
     },
     "execution_count": 3,
     "metadata": {},
     "output_type": "execute_result"
    }
   ],
   "source": [
    "f"
   ]
  },
  {
   "cell_type": "code",
   "execution_count": 4,
   "metadata": {},
   "outputs": [
    {
     "name": "stdout",
     "output_type": "stream",
     "text": [
      "<_io.TextIOWrapper name='WorldPopulation.csv' mode='r' encoding='cp1252'>\n"
     ]
    }
   ],
   "source": [
    "print(f)"
   ]
  },
  {
   "cell_type": "code",
   "execution_count": 5,
   "metadata": {},
   "outputs": [
    {
     "name": "stdout",
     "output_type": "stream",
     "text": [
      "['Year,Population,ChangePerc,NetChange,Density,Urban,UrbanPerc\\n', '2020,7794798739,1.05,81330639,52,4378993944,56\\n', '2019,7713468100,1.08,82377060,52,4299438618,56\\n', '2018,7631091040,1.1,83232115,51,4219817318,55\\n', '2017,7547858925,1.12,83836876,51,4140188594,55\\n', '2016,7464022049,1.14,84224910,50,4060652683,54\\n', '2015,7379797139,1.16,84506374,50,3981497663,54\\n', '2014,7295290765,1.17,84708789,49,3902831934,53\\n', '2013,7210581976,1.19,84753917,48,3824990329,53\\n', '2012,7125828059,1.2,84633758,48,3747842586,53\\n', '2011,7041194301,1.21,84370698,47,3671423872,52\\n', '2010,6956823603,1.22,84056510,47,3594868146,52\\n', '2009,6872767093,1.23,83678407,46,3516830263,51\\n', '2008,6789088686,1.24,83142076,46,3439719128,51\\n', '2007,6705946610,1.24,82428777,45,3363609560,50\\n', '2006,6623517833,1.25,81610806,44,3289446226,50\\n', '2005,6541907027,1.25,80747638,44,3215905863,49\\n', '2004,6461159389,1.25,79974275,43,3143044892,49\\n', '2003,6381185114,1.26,79411926,43,3071743997,48\\n', '2002,6301773188,1.27,79146582,42,3001808223,48\\n', '2001,6222626606,1.29,79132783,42,2933078510,47\\n', '2000,6143493823,1.31,79254768,41,2868307513,47\\n', '1999,6064239055,1.33,79445113,41,2808231655,46\\n', '1998,5984793942,1.35,79748154,40,2749213598,46\\n', '1997,5905045788,1.38,80153837,40,2690813541,46\\n', '1996,5824891951,1.4,80678972,39,2632941583,45\\n', '1995,5744212979,1.43,81062552,39,2575505235,45\\n', '1994,5663150427,1.46,81552881,38,2518254111,44\\n', '1993,5581597546,1.5,82677737,37,2461223528,44\\n', '1992,5498919809,1.56,84630365,37,2404337297,44\\n', '1991,5414289444,1.63,87058383,36,2347462336,43\\n', '1990,5327231061,1.71,89789503,36,2290228096,43\\n', '1989,5237441558,1.79,92015550,35,2233140502,43\\n', '1988,5145426008,1.84,92903861,35,2176126537,42\\n', '1987,5052522147,1.85,91954235,34,2118882551,42\\n', '1986,4960567912,1.84,89646172,33,2062604394,42\\n', '1985,4870921740,1.82,86910119,33,2007939063,41\\n', '1984,4784011621,1.8,84442317,32,1955106433,41\\n', '1983,4699569304,1.78,82182762,32,1903822436,41\\n', '1982,4617386542,1.77,80389780,31,1854134229,40\\n', '1981,4536996762,1.77,78993248,30,1804215203,40\\n', '1980,4458003514,1.77,77497414,30,1754201029,39\\n', '1979,4380506100,1.76,75972599,29,1706021638,39\\n', '1978,4304533501,1.77,75027441,29,1659306117,39\\n', '1977,4229506060,1.8,74839196,28,1616419308,38\\n', '1976,4154666864,1.84,75186258,28,1577376141,38\\n', '1975,4079480606,1.89,75686434,27,1538624994,38\\n', '1974,4003794172,1.94,76013934,27,1501134655,37\\n', '1973,3927780238,1.98,76129993,26,1462178370,37\\n', '1972,3851650245,2.01,75890628,26,1424734781,37\\n', '1971,3775759617,2.04,75322571,25,1388834099,37\\n', '1970,3700437046,2.06,74756419,25,1354215496,37\\n', '1969,3625680627,2.09,74081500,24,1319833474,36\\n', '1968,3551599127,2.09,72829165,24,1285933432,36\\n', '1967,3478769962,2.08,70847332,23,1252566565,36\\n', '1966,3407922630,2.05,68339033,23,1219993032,36\\n', '1965,3339583597,2,65605259,22,1188469224,36\\n', '1964,3273978338,1.96,62977329,22,1157813355,35\\n', '1963,3211001009,1.92,60580214,22,1122561940,35\\n', '1962,3150420795,1.89,58577288,21,1088376703,35\\n', '1961,3091843507,1.87,56893759,21,1055435648,34\\n', '1960,3034949748,1.86,55373563,20,1023845517,34\\n', '1959,2979576185,1.84,53889480,20,992820546,33\\n', '1958,2925686705,1.82,52380615,20,962537113,33\\n', '1957,2873306090,1.8,50862808,19,933113168,32\\n', '1956,2822443282,1.78,49423346,19,904685164,32\\n', '1955,2773019936,1.77,48173195,19,877008842,32\\n', '1954,2724846741,1.76,47237781,18,850179106,31\\n', '1953,2677608960,1.78,46747398,18,824289989,31\\n', '1952,2630861562,1.81,46827301,18,799282533,30\\n', '1951,2584034261,1.88,47603112,17,775067697,30']\n"
     ]
    }
   ],
   "source": [
    "print(line)"
   ]
  },
  {
   "cell_type": "code",
   "execution_count": 7,
   "metadata": {},
   "outputs": [
    {
     "name": "stdout",
     "output_type": "stream",
     "text": [
      "cab\n"
     ]
    }
   ],
   "source": [
    "x=str(input())\n",
    "y=len(x)"
   ]
  },
  {
   "cell_type": "code",
   "execution_count": 8,
   "metadata": {},
   "outputs": [
    {
     "name": "stdout",
     "output_type": "stream",
     "text": [
      "3\n"
     ]
    }
   ],
   "source": [
    "print(y)"
   ]
  },
  {
   "cell_type": "code",
   "execution_count": null,
   "metadata": {},
   "outputs": [],
   "source": [
    "\n",
    "    \n",
    "    "
   ]
  }
 ],
 "metadata": {
  "kernelspec": {
   "display_name": "Python 3",
   "language": "python",
   "name": "python3"
  },
  "language_info": {
   "codemirror_mode": {
    "name": "ipython",
    "version": 3
   },
   "file_extension": ".py",
   "mimetype": "text/x-python",
   "name": "python",
   "nbconvert_exporter": "python",
   "pygments_lexer": "ipython3",
   "version": "3.7.6"
  }
 },
 "nbformat": 4,
 "nbformat_minor": 4
}
