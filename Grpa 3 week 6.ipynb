{
 "cells": [
  {
   "cell_type": "code",
   "execution_count": 1,
   "metadata": {},
   "outputs": [],
   "source": [
    "scores = [ { 'Chemistry': 78,\n",
    "    'CityTown': 'Erode',\n",
    "    'DateOfBirth': '7 Nov',\n",
    "    'Gender': 'M',\n",
    "    'Mathematics': 68,\n",
    "    'Name': 'Bhuvanesh',\n",
    "    'Physics': 64,\n",
    "    'SeqNo': 0,\n",
    "    'Total': 210},\n",
    "\n",
    "  { 'Chemistry': 91,\n",
    "    'CityTown': 'Salem',\n",
    "    'DateOfBirth': '3 Jun',\n",
    "    'Gender': 'M',\n",
    "    'Mathematics': 62,\n",
    "    'Name': 'Harish',\n",
    "    'Physics': 45,\n",
    "    'SeqNo': 1,\n",
    "    'Total': 198},\n",
    "\n",
    "  { 'Chemistry': 77,\n",
    "    'CityTown': 'Chennai',\n",
    "    'DateOfBirth': '4 Jan',\n",
    "    'Gender': 'M',\n",
    "    'Mathematics': 57,\n",
    "    'Name': 'Shashank',\n",
    "    'Physics': 54,\n",
    "    'SeqNo': 2,\n",
    "    'Total': 188},\n",
    "\n",
    "  { 'Chemistry': 78,\n",
    "    'CityTown': 'Chennai',\n",
    "    'DateOfBirth': '5 May',\n",
    "    'Gender': 'F',\n",
    "    'Mathematics': 42,\n",
    "    'Name': 'Rida',\n",
    "    'Physics': 53,\n",
    "    'SeqNo': 3,\n",
    "    'Total': 173},\n",
    "\n",
    "  { 'Chemistry': 89,\n",
    "    'CityTown': 'Madurai',\n",
    "    'DateOfBirth': '17 Nov',\n",
    "    'Gender': 'F',\n",
    "    'Mathematics': 87,\n",
    "    'Name': 'Ritika',\n",
    "    'Physics': 64,\n",
    "    'SeqNo': 4,\n",
    "    'Total': 240},\n",
    "\n",
    "  { 'Chemistry': 84,\n",
    "    'CityTown': 'Chennai',\n",
    "    'DateOfBirth': '8 Feb',\n",
    "    'Gender': 'F',\n",
    "    'Mathematics': 71,\n",
    "    'Name': 'Akshaya',\n",
    "    'Physics': 92,\n",
    "    'SeqNo': 5,\n",
    "    'Total': 247},\n",
    "\n",
    "  { 'Chemistry': 87,\n",
    "    'CityTown': 'Ambur',\n",
    "    'DateOfBirth': '23 Mar',\n",
    "    'Gender': 'M',\n",
    "    'Mathematics': 81,\n",
    "    'Name': 'Sameer',\n",
    "    'Physics': 82,\n",
    "    'SeqNo': 6,\n",
    "    'Total': 250},\n",
    "\n",
    "  { 'Chemistry': 76,\n",
    "    'CityTown': 'Vellore',\n",
    "    'DateOfBirth': '15 Mar',\n",
    "    'Gender': 'M',\n",
    "    'Mathematics': 84,\n",
    "    'Name': 'Aditya',\n",
    "    'Physics': 92,\n",
    "    'SeqNo': 7,\n",
    "    'Total': 252},\n",
    "\n",
    "  { 'Chemistry': 51,\n",
    "    'CityTown': 'Bengaluru',\n",
    "    'DateOfBirth': '28 Feb',\n",
    "    'Gender': 'M',\n",
    "    'Mathematics': 74,\n",
    "    'Name': 'Surya',\n",
    "    'Physics': 64,\n",
    "    'SeqNo': 8,\n",
    "    'Total': 189},\n",
    "\n",
    "  { 'Chemistry': 73,\n",
    "    'CityTown': 'Bengaluru',\n",
    "    'DateOfBirth': '6 Dec',\n",
    "    'Gender': 'M',\n",
    "    'Mathematics': 63,\n",
    "    'Name': 'Clarence',\n",
    "    'Physics': 88,\n",
    "    'SeqNo': 9,\n",
    "    'Total': 224},\n",
    "\n",
    "  { 'Chemistry': 68,\n",
    "    'CityTown': 'Chennai',\n",
    "    'DateOfBirth': '12 Jan',\n",
    "    'Gender': 'F',\n",
    "    'Mathematics': 64,\n",
    "    'Name': 'Kavya',\n",
    "    'Physics': 72,\n",
    "    'SeqNo': 10,\n",
    "    'Total': 204},\n",
    "\n",
    "  { 'Chemistry': 92,\n",
    "    'CityTown': 'Bengaluru',\n",
    "    'DateOfBirth': '30 Apr',\n",
    "    'Gender': 'M',\n",
    "    'Mathematics': 97,\n",
    "    'Name': 'Rahul',\n",
    "    'Physics': 92,\n",
    "    'SeqNo': 11,\n",
    "    'Total': 281},\n",
    "\n",
    "  { 'Chemistry': 71,\n",
    "    'CityTown': 'Chennai',\n",
    "    'DateOfBirth': '14 Jan',\n",
    "    'Gender': 'F',\n",
    "    'Mathematics': 52,\n",
    "    'Name': 'Srinidhi',\n",
    "    'Physics': 64,\n",
    "    'SeqNo': 12,\n",
    "    'Total': 187},\n",
    "\n",
    "  { 'Chemistry': 89,\n",
    "    'CityTown': 'Madurai',\n",
    "    'DateOfBirth': '6 May',\n",
    "    'Gender': 'M',\n",
    "    'Mathematics': 65,\n",
    "    'Name': 'Gopi',\n",
    "    'Physics': 73,\n",
    "    'SeqNo': 13,\n",
    "    'Total': 227},\n",
    "\n",
    "  { 'Chemistry': 93,\n",
    "    'CityTown': 'Trichy',\n",
    "    'DateOfBirth': '23 July',\n",
    "    'Gender': 'F',\n",
    "    'Mathematics': 89,\n",
    "    'Name': 'Sophia',\n",
    "    'Physics': 62,\n",
    "    'SeqNo': 14,\n",
    "    'Total': 244},\n",
    "\n",
    "  { 'Chemistry': 90,\n",
    "    'CityTown': 'Theni',\n",
    "    'DateOfBirth': '22 Sep',\n",
    "    'Gender': 'F',\n",
    "    'Mathematics': 76,\n",
    "    'Name': 'Goutami',\n",
    "    'Physics': 58,\n",
    "    'SeqNo': 15,\n",
    "    'Total': 224},\n",
    "\n",
    "  { 'Chemistry': 43,\n",
    "    'CityTown': 'Trichy',\n",
    "    'DateOfBirth': '30 Dec',\n",
    "    'Gender': 'M',\n",
    "    'Mathematics': 87,\n",
    "    'Name': 'Tauseef',\n",
    "    'Physics': 86,\n",
    "    'SeqNo': 16,\n",
    "    'Total': 216},\n",
    "\n",
    "  { 'Chemistry': 67,\n",
    "    'CityTown': 'Chennai',\n",
    "    'DateOfBirth': '14 Dec',\n",
    "    'Gender': 'M',\n",
    "    'Mathematics': 62,\n",
    "    'Name': 'Arshad',\n",
    "    'Physics': 81,\n",
    "    'SeqNo': 17,\n",
    "    'Total': 210},\n",
    "\n",
    "  { 'Chemistry': 97,\n",
    "    'CityTown': 'Erode',\n",
    "    'DateOfBirth': '9 Oct',\n",
    "    'Gender': 'F',\n",
    "    'Mathematics': 72,\n",
    "    'Name': 'Abirami',\n",
    "    'Physics': 92,\n",
    "    'SeqNo': 18,\n",
    "    'Total': 261},\n",
    "\n",
    "  { 'Chemistry': 62,\n",
    "    'CityTown': 'Trichy',\n",
    "    'DateOfBirth': '30 Aug',\n",
    "    'Gender': 'M',\n",
    "    'Mathematics': 56,\n",
    "    'Name': 'Vetrivel',\n",
    "    'Physics': 78,\n",
    "    'SeqNo': 19,\n",
    "    'Total': 196},\n",
    "\n",
    "  { 'Chemistry': 91,\n",
    "    'CityTown': 'Vellore',\n",
    "    'DateOfBirth': '17 Sep',\n",
    "    'Gender': 'M',\n",
    "    'Mathematics': 93,\n",
    "    'Name': 'Kalyan',\n",
    "    'Physics': 68,\n",
    "    'SeqNo': 20,\n",
    "    'Total': 252},\n",
    "\n",
    "  { 'Chemistry': 74,\n",
    "    'CityTown': 'Bengaluru',\n",
    "    'DateOfBirth': '15 Mar',\n",
    "    'Gender': 'F',\n",
    "    'Mathematics': 78,\n",
    "    'Name': 'Monika',\n",
    "    'Physics': 69,\n",
    "    'SeqNo': 21,\n",
    "    'Total': 221},\n",
    "\n",
    "  { 'Chemistry': 57,\n",
    "    'CityTown': 'Nagercoil',\n",
    "    'DateOfBirth': '17 Jul',\n",
    "    'Gender': 'F',\n",
    "    'Mathematics': 62,\n",
    "    'Name': 'Priya',\n",
    "    'Physics': 62,\n",
    "    'SeqNo': 22,\n",
    "    'Total': 181},\n",
    "\n",
    "  { 'Chemistry': 88,\n",
    "    'CityTown': 'Bengaluru',\n",
    "    'DateOfBirth': '13 May',\n",
    "    'Gender': 'F',\n",
    "    'Mathematics': 97,\n",
    "    'Name': 'Deepika',\n",
    "    'Physics': 91,\n",
    "    'SeqNo': 23,\n",
    "    'Total': 276},\n",
    "\n",
    "  { 'Chemistry': 58,\n",
    "    'CityTown': 'Madurai',\n",
    "    'DateOfBirth': '26 Dec',\n",
    "    'Gender': 'M',\n",
    "    'Mathematics': 44,\n",
    "    'Name': 'Siddharth',\n",
    "    'Physics': 72,\n",
    "    'SeqNo': 24,\n",
    "    'Total': 174},\n",
    "\n",
    "  { 'Chemistry': 92,\n",
    "    'CityTown': 'Chennai',\n",
    "    'DateOfBirth': '16 May',\n",
    "    'Gender': 'F',\n",
    "    'Mathematics': 87,\n",
    "    'Name': 'Geeta',\n",
    "    'Physics': 75,\n",
    "    'SeqNo': 25,\n",
    "    'Total': 254},\n",
    "\n",
    "  { 'Chemistry': 82,\n",
    "    'CityTown': 'Chennai',\n",
    "    'DateOfBirth': '22 Jul',\n",
    "    'Gender': 'M',\n",
    "    'Mathematics': 74,\n",
    "    'Name': 'JK',\n",
    "    'Physics': 71,\n",
    "    'SeqNo': 26,\n",
    "    'Total': 227},\n",
    "\n",
    "  { 'Chemistry': 52,\n",
    "    'CityTown': 'Madurai',\n",
    "    'DateOfBirth': '4 Mar',\n",
    "    'Gender': 'M',\n",
    "    'Mathematics': 81,\n",
    "    'Name': 'Jagan',\n",
    "    'Physics': 76,\n",
    "    'SeqNo': 27,\n",
    "    'Total': 209},\n",
    "\n",
    "  { 'Chemistry': 83,\n",
    "    'CityTown': 'Madurai',\n",
    "    'DateOfBirth': '10 Sep',\n",
    "    'Gender': 'F',\n",
    "    'Mathematics': 74,\n",
    "    'Name': 'Nisha',\n",
    "    'Physics': 83,\n",
    "    'SeqNo': 28,\n",
    "    'Total': 240},\n",
    "\n",
    "  { 'Chemistry': 81,\n",
    "    'CityTown': 'Vellore',\n",
    "    'DateOfBirth': '13 Oct',\n",
    "    'Gender': 'M',\n",
    "    'Mathematics': 72,\n",
    "    'Name': 'Naveen',\n",
    "    'Physics': 66,\n",
    "    'SeqNo': 29,\n",
    "    'Total': 219}]\n",
    "\n"
   ]
  },
  {
   "cell_type": "code",
   "execution_count": 2,
   "metadata": {},
   "outputs": [
    {
     "data": {
      "text/plain": [
       "'for i in  range(len(scores)):\\n    print(scores[i])'"
      ]
     },
     "execution_count": 2,
     "metadata": {},
     "output_type": "execute_result"
    }
   ],
   "source": [
    "#def topMentors(scores,subject):\n",
    "'''for i in  range(len(scores)):\n",
    "    print(scores[i])'''\n",
    "        "
   ]
  },
  {
   "cell_type": "code",
   "execution_count": 3,
   "metadata": {},
   "outputs": [],
   "source": [
    "maxi=0\n",
    "d1={}\n",
    "k=[]\n",
    "for i in range (len(scores)):\n",
    "    for j in range (len(scores)-1,-1,-1):\n",
    "        if ((scores[i]['Physics']-scores[j]['Physics'])<=20) and ((scores[i]['Physics']-scores[j]['Physics'])>=10):\n",
    "            val=scores[i]['SeqNo']\n",
    "            key=scores[j]['SeqNo']\n",
    "            if val not in d1:\n",
    "                d1[val]=[key]\n",
    "            else:\n",
    "                d1[val].append(key)\n",
    "for i in d1:\n",
    "    d1[i].sort(key=int)\n",
    "    k.append(len(d1[i]))\n",
    "    maxi=max(k)\n",
    "                \n",
    "        \n",
    "        \n",
    "        "
   ]
  },
  {
   "cell_type": "code",
   "execution_count": 4,
   "metadata": {},
   "outputs": [
    {
     "name": "stdout",
     "output_type": "stream",
     "text": [
      "{0: [1, 2, 3], 4: [1, 2, 3], 5: [6, 10, 13, 17, 19, 24, 25, 27], 6: [0, 4, 8, 10, 12, 14, 20, 21, 22, 24, 26, 29], 7: [6, 10, 13, 17, 19, 24, 25, 27], 8: [1, 2, 3], 9: [10, 13, 19, 20, 21, 24, 25, 26, 27], 10: [2, 3, 14, 15, 22], 11: [6, 10, 13, 17, 19, 24, 25, 27], 12: [1, 2, 3], 13: [2, 3, 14, 15, 22], 14: [1], 15: [1], 16: [10, 13, 20, 21, 24, 25, 26, 27, 29], 17: [0, 4, 8, 12, 14, 20, 21, 22, 26, 29], 18: [6, 10, 13, 17, 19, 24, 25, 27], 19: [0, 4, 8, 12, 14, 15, 20, 22, 29], 20: [2, 3, 15], 21: [2, 3, 15], 22: [1], 23: [10, 13, 17, 19, 24, 25, 26, 27], 24: [2, 3, 14, 15, 22], 25: [0, 4, 8, 12, 14, 15, 22], 26: [2, 3, 15], 27: [0, 4, 8, 12, 14, 15, 22, 29], 28: [0, 4, 8, 10, 12, 13, 20, 21, 24, 26, 29], 29: [2, 3]}\n"
     ]
    }
   ],
   "source": [
    "print(d1)"
   ]
  },
  {
   "cell_type": "code",
   "execution_count": 5,
   "metadata": {},
   "outputs": [
    {
     "name": "stdout",
     "output_type": "stream",
     "text": [
      "12\n"
     ]
    }
   ],
   "source": [
    "print(maxi)"
   ]
  },
  {
   "cell_type": "code",
   "execution_count": 13,
   "metadata": {},
   "outputs": [
    {
     "name": "stdout",
     "output_type": "stream",
     "text": [
      "{6: [0, 4, 8, 10, 12, 14, 20, 21, 22, 24, 26, 29]}\n"
     ]
    }
   ],
   "source": [
    "#print(max(k))\n",
    "d2={}\n",
    "for key in d1:\n",
    "    if (len(d1[key])==12):\n",
    "        if key not in d2:\n",
    "            d2[key]=d1[key]\n",
    "print(d2)\n"
   ]
  },
  {
   "cell_type": "code",
   "execution_count": 8,
   "metadata": {},
   "outputs": [
    {
     "ename": "KeyError",
     "evalue": "3",
     "output_type": "error",
     "traceback": [
      "\u001b[1;31m---------------------------------------------------------------------------\u001b[0m",
      "\u001b[1;31mKeyError\u001b[0m                                  Traceback (most recent call last)",
      "\u001b[1;32m<ipython-input-8-3182b7bc32aa>\u001b[0m in \u001b[0;36m<module>\u001b[1;34m\u001b[0m\n\u001b[0;32m      4\u001b[0m \u001b[1;32mfor\u001b[0m \u001b[0mi\u001b[0m \u001b[1;32min\u001b[0m \u001b[0mrange\u001b[0m\u001b[1;33m(\u001b[0m\u001b[0mlen\u001b[0m\u001b[1;33m(\u001b[0m\u001b[0md1\u001b[0m\u001b[1;33m)\u001b[0m\u001b[1;33m)\u001b[0m\u001b[1;33m:\u001b[0m\u001b[1;33m\u001b[0m\u001b[1;33m\u001b[0m\u001b[0m\n\u001b[0;32m      5\u001b[0m     \u001b[1;32mwhile\u001b[0m\u001b[1;33m(\u001b[0m\u001b[0ms\u001b[0m\u001b[1;33m<\u001b[0m\u001b[1;36m30\u001b[0m\u001b[1;33m)\u001b[0m\u001b[1;33m:\u001b[0m\u001b[1;33m\u001b[0m\u001b[1;33m\u001b[0m\u001b[0m\n\u001b[1;32m----> 6\u001b[1;33m         \u001b[1;32mif\u001b[0m \u001b[0mlen\u001b[0m\u001b[1;33m(\u001b[0m\u001b[0md1\u001b[0m\u001b[1;33m[\u001b[0m\u001b[0ms\u001b[0m\u001b[1;33m]\u001b[0m\u001b[1;33m)\u001b[0m\u001b[1;33m>\u001b[0m \u001b[1;36m12\u001b[0m\u001b[1;33m:\u001b[0m\u001b[1;33m\u001b[0m\u001b[1;33m\u001b[0m\u001b[0m\n\u001b[0m\u001b[0;32m      7\u001b[0m             \u001b[0mmaxi\u001b[0m\u001b[1;33m=\u001b[0m\u001b[0mlen\u001b[0m\u001b[1;33m(\u001b[0m\u001b[0md1\u001b[0m\u001b[1;33m[\u001b[0m\u001b[0ms\u001b[0m\u001b[1;33m]\u001b[0m\u001b[1;33m)\u001b[0m\u001b[1;33m\u001b[0m\u001b[1;33m\u001b[0m\u001b[0m\n\u001b[0;32m      8\u001b[0m         \u001b[1;31m#print(maxi)\u001b[0m\u001b[1;33m\u001b[0m\u001b[1;33m\u001b[0m\u001b[1;33m\u001b[0m\u001b[0m\n",
      "\u001b[1;31mKeyError\u001b[0m: 3"
     ]
    }
   ],
   "source": [
    "i=0\n",
    "maxi=len(d1[0])\n",
    "s=k[i]\n",
    "for i in range(len(d1)):\n",
    "    while(s<30):\n",
    "        if len(d1[s])> 12:\n",
    "            maxi=len(d1[s])\n",
    "        #print(maxi)\n",
    "        s=k[i+1] \n",
    "    "
   ]
  },
  {
   "cell_type": "code",
   "execution_count": null,
   "metadata": {},
   "outputs": [],
   "source": [
    "print(maxi)"
   ]
  },
  {
   "cell_type": "code",
   "execution_count": 52,
   "metadata": {},
   "outputs": [
    {
     "name": "stdout",
     "output_type": "stream",
     "text": [
      "3\n",
      "3\n",
      "3\n"
     ]
    },
    {
     "ename": "KeyError",
     "evalue": "3",
     "output_type": "error",
     "traceback": [
      "\u001b[1;31m---------------------------------------------------------------------------\u001b[0m",
      "\u001b[1;31mKeyError\u001b[0m                                  Traceback (most recent call last)",
      "\u001b[1;32m<ipython-input-52-ca5a29d387b8>\u001b[0m in \u001b[0;36m<module>\u001b[1;34m\u001b[0m\n\u001b[0;32m      1\u001b[0m \u001b[1;32mfor\u001b[0m \u001b[0mi\u001b[0m \u001b[1;32min\u001b[0m \u001b[0mrange\u001b[0m \u001b[1;33m(\u001b[0m\u001b[0mlen\u001b[0m\u001b[1;33m(\u001b[0m\u001b[0md1\u001b[0m\u001b[1;33m)\u001b[0m\u001b[1;33m)\u001b[0m\u001b[1;33m:\u001b[0m\u001b[1;33m\u001b[0m\u001b[1;33m\u001b[0m\u001b[0m\n\u001b[0;32m      2\u001b[0m     \u001b[1;32mfor\u001b[0m \u001b[0mj\u001b[0m \u001b[1;32min\u001b[0m \u001b[0mrange\u001b[0m \u001b[1;33m(\u001b[0m\u001b[0mlen\u001b[0m\u001b[1;33m(\u001b[0m\u001b[0md1\u001b[0m\u001b[1;33m)\u001b[0m\u001b[1;33m-\u001b[0m\u001b[1;36m1\u001b[0m\u001b[1;33m,\u001b[0m\u001b[1;33m-\u001b[0m\u001b[1;36m1\u001b[0m\u001b[1;33m,\u001b[0m\u001b[1;33m-\u001b[0m\u001b[1;36m1\u001b[0m\u001b[1;33m)\u001b[0m\u001b[1;33m:\u001b[0m\u001b[1;33m\u001b[0m\u001b[1;33m\u001b[0m\u001b[0m\n\u001b[1;32m----> 3\u001b[1;33m         \u001b[1;32mif\u001b[0m \u001b[0mlen\u001b[0m\u001b[1;33m(\u001b[0m\u001b[0md1\u001b[0m\u001b[1;33m[\u001b[0m\u001b[0mi\u001b[0m\u001b[1;33m]\u001b[0m\u001b[1;33m)\u001b[0m\u001b[1;33m>\u001b[0m\u001b[0mlen\u001b[0m\u001b[1;33m(\u001b[0m\u001b[0md1\u001b[0m\u001b[1;33m[\u001b[0m\u001b[0mj\u001b[0m\u001b[1;33m]\u001b[0m\u001b[1;33m)\u001b[0m\u001b[1;33m:\u001b[0m\u001b[1;33m\u001b[0m\u001b[1;33m\u001b[0m\u001b[0m\n\u001b[0m\u001b[0;32m      4\u001b[0m             \u001b[0mprint\u001b[0m\u001b[1;33m(\u001b[0m\u001b[0mlen\u001b[0m\u001b[1;33m(\u001b[0m\u001b[0md1\u001b[0m\u001b[1;33m[\u001b[0m\u001b[0mi\u001b[0m\u001b[1;33m]\u001b[0m\u001b[1;33m)\u001b[0m\u001b[1;33m)\u001b[0m\u001b[1;33m\u001b[0m\u001b[1;33m\u001b[0m\u001b[0m\n\u001b[0;32m      5\u001b[0m \u001b[1;33m\u001b[0m\u001b[0m\n",
      "\u001b[1;31mKeyError\u001b[0m: 3"
     ]
    }
   ],
   "source": []
  },
  {
   "cell_type": "code",
   "execution_count": 49,
   "metadata": {},
   "outputs": [
    {
     "ename": "IndentationError",
     "evalue": "expected an indented block (<ipython-input-49-74f3d12161be>, line 5)",
     "output_type": "error",
     "traceback": [
      "\u001b[1;36m  File \u001b[1;32m\"<ipython-input-49-74f3d12161be>\"\u001b[1;36m, line \u001b[1;32m5\u001b[0m\n\u001b[1;33m    if (len(d1[s]))>=(maxi):\u001b[0m\n\u001b[1;37m     ^\u001b[0m\n\u001b[1;31mIndentationError\u001b[0m\u001b[1;31m:\u001b[0m expected an indented block\n"
     ]
    }
   ],
   "source": [
    "for x in k:\n",
    "    s=k[0]\n",
    "       \n",
    "    while(s!=len(d1)):\n",
    "    if (len(d1[s]))>=(maxi):\n",
    "        maxi=len(d1[s])\n",
    "       \n",
    "    print(maxi)\n",
    "    \n",
    "print(d1)"
   ]
  },
  {
   "cell_type": "code",
   "execution_count": 69,
   "metadata": {},
   "outputs": [
    {
     "name": "stdout",
     "output_type": "stream",
     "text": [
      "8\n",
      "12\n",
      "8\n",
      "9\n",
      "5\n",
      "8\n",
      "5\n",
      "9\n",
      "10\n",
      "8\n",
      "9\n",
      "8\n",
      "5\n",
      "7\n"
     ]
    },
    {
     "ename": "KeyError",
     "evalue": "1",
     "output_type": "error",
     "traceback": [
      "\u001b[1;31m---------------------------------------------------------------------------\u001b[0m",
      "\u001b[1;31mKeyError\u001b[0m                                  Traceback (most recent call last)",
      "\u001b[1;32m<ipython-input-69-bd0aaa76987c>\u001b[0m in \u001b[0;36m<module>\u001b[1;34m\u001b[0m\n\u001b[0;32m      2\u001b[0m         \u001b[1;32mfor\u001b[0m \u001b[0mj\u001b[0m \u001b[1;32min\u001b[0m \u001b[0mrange\u001b[0m \u001b[1;33m(\u001b[0m\u001b[1;36m4\u001b[0m\u001b[1;33m,\u001b[0m\u001b[0mlen\u001b[0m\u001b[1;33m(\u001b[0m\u001b[0md1\u001b[0m\u001b[1;33m)\u001b[0m\u001b[1;33m)\u001b[0m\u001b[1;33m:\u001b[0m\u001b[1;33m\u001b[0m\u001b[1;33m\u001b[0m\u001b[0m\n\u001b[0;32m      3\u001b[0m             \u001b[0mmaxi\u001b[0m\u001b[1;33m=\u001b[0m\u001b[1;36m0\u001b[0m\u001b[1;33m\u001b[0m\u001b[1;33m\u001b[0m\u001b[0m\n\u001b[1;32m----> 4\u001b[1;33m             \u001b[1;32mif\u001b[0m \u001b[0mlen\u001b[0m\u001b[1;33m(\u001b[0m\u001b[0md1\u001b[0m\u001b[1;33m[\u001b[0m\u001b[0mj\u001b[0m\u001b[1;33m]\u001b[0m\u001b[1;33m)\u001b[0m\u001b[1;33m>\u001b[0m\u001b[0mlen\u001b[0m\u001b[1;33m(\u001b[0m\u001b[0md1\u001b[0m\u001b[1;33m[\u001b[0m\u001b[0mi\u001b[0m\u001b[1;33m]\u001b[0m\u001b[1;33m)\u001b[0m\u001b[1;33m:\u001b[0m\u001b[1;33m\u001b[0m\u001b[1;33m\u001b[0m\u001b[0m\n\u001b[0m\u001b[0;32m      5\u001b[0m                 \u001b[0mmaxi\u001b[0m\u001b[1;33m=\u001b[0m\u001b[0mlen\u001b[0m\u001b[1;33m(\u001b[0m\u001b[0md1\u001b[0m\u001b[1;33m[\u001b[0m\u001b[0mj\u001b[0m\u001b[1;33m]\u001b[0m\u001b[1;33m)\u001b[0m\u001b[1;33m\u001b[0m\u001b[1;33m\u001b[0m\u001b[0m\n\u001b[0;32m      6\u001b[0m                 \u001b[0mprint\u001b[0m\u001b[1;33m(\u001b[0m\u001b[0mmaxi\u001b[0m\u001b[1;33m)\u001b[0m\u001b[1;33m\u001b[0m\u001b[1;33m\u001b[0m\u001b[0m\n",
      "\u001b[1;31mKeyError\u001b[0m: 1"
     ]
    }
   ],
   "source": [
    "for i in range (0,len(d1)):\n",
    "        for j in range (4,len(d1)):\n",
    "            maxi=0\n",
    "            if len(d1[j])>len(d1[i]):\n",
    "                maxi=len(d1[j])\n",
    "                print(maxi)"
   ]
  },
  {
   "cell_type": "code",
   "execution_count": 42,
   "metadata": {},
   "outputs": [],
   "source": [
    "#***Finale Showdown***😒😒"
   ]
  },
  {
   "cell_type": "code",
   "execution_count": 35,
   "metadata": {},
   "outputs": [],
   "source": [
    "def topMentors(scores,subject):\n",
    "    d1={}\n",
    "    d2={}\n",
    "    k=[]\n",
    "    for i in range(len(scores)):\n",
    "        for j in range(len(scores)-1,-1,-1):\n",
    "            if((scores[i][subject]-scores[j][subject])<=20)and((scores[i][subject]-scores[j][subject])>=10):\n",
    "                key=scores[i]['SeqNo']\n",
    "                val=scores[j]['SeqNo']\n",
    "                if key not in d1:\n",
    "                    d1[key]=[val]\n",
    "                else:\n",
    "                    d1[key].append(val)\n",
    "                    \n",
    "    for i in d1:\n",
    "        d1[i].sort(key=int)\n",
    "        k.append(len(d1[i]))\n",
    "    maxi=max(k)\n",
    "    for key in d1:\n",
    "        if (len(d1[key])==maxi):\n",
    "            if key not in d2:\n",
    "                d2[key]=d1[key]\n",
    "            \n",
    "    \n",
    "        \n",
    "    return(d2)    \n",
    "    "
   ]
  },
  {
   "cell_type": "code",
   "execution_count": 82,
   "metadata": {},
   "outputs": [
    {
     "ename": "TypeError",
     "evalue": "object of type 'int' has no len()",
     "output_type": "error",
     "traceback": [
      "\u001b[1;31m---------------------------------------------------------------------------\u001b[0m",
      "\u001b[1;31mTypeError\u001b[0m                                 Traceback (most recent call last)",
      "\u001b[1;32m<ipython-input-82-869d78690181>\u001b[0m in \u001b[0;36m<module>\u001b[1;34m\u001b[0m\n\u001b[1;32m----> 1\u001b[1;33m \u001b[0mmax_key\u001b[0m \u001b[1;33m=\u001b[0m \u001b[0mmax\u001b[0m\u001b[1;33m(\u001b[0m\u001b[0md1\u001b[0m\u001b[1;33m,\u001b[0m \u001b[0mkey\u001b[0m\u001b[1;33m=\u001b[0m\u001b[0mlen\u001b[0m\u001b[1;33m(\u001b[0m\u001b[0mval\u001b[0m\u001b[1;33m)\u001b[0m \u001b[1;33m)\u001b[0m\u001b[1;33m\u001b[0m\u001b[1;33m\u001b[0m\u001b[0m\n\u001b[0m\u001b[0;32m      2\u001b[0m \u001b[0mprint\u001b[0m\u001b[1;33m(\u001b[0m\u001b[0mmax_key\u001b[0m\u001b[1;33m)\u001b[0m\u001b[1;33m\u001b[0m\u001b[1;33m\u001b[0m\u001b[0m\n",
      "\u001b[1;31mTypeError\u001b[0m: object of type 'int' has no len()"
     ]
    }
   ],
   "source": []
  },
  {
   "cell_type": "code",
   "execution_count": 38,
   "metadata": {},
   "outputs": [
    {
     "name": "stdout",
     "output_type": "stream",
     "text": [
      "{7: [0, 5, 8, 10, 13, 18, 26, 28, 29]}\n"
     ]
    }
   ],
   "source": [
    "print(topMentors(scores,'Mathematics'))"
   ]
  },
  {
   "cell_type": "code",
   "execution_count": null,
   "metadata": {},
   "outputs": [],
   "source": []
  }
 ],
 "metadata": {
  "kernelspec": {
   "display_name": "Python 3",
   "language": "python",
   "name": "python3"
  },
  "language_info": {
   "codemirror_mode": {
    "name": "ipython",
    "version": 3
   },
   "file_extension": ".py",
   "mimetype": "text/x-python",
   "name": "python",
   "nbconvert_exporter": "python",
   "pygments_lexer": "ipython3",
   "version": "3.7.6"
  }
 },
 "nbformat": 4,
 "nbformat_minor": 4
}
